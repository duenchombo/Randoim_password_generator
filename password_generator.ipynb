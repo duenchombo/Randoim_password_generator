{
 "cells": [
  {
   "cell_type": "code",
   "execution_count": null,
   "metadata": {},
   "outputs": [],
   "source": [
    "'''password generator'''\n",
    "\n",
    "def password_generator():\n",
    "    import string\n",
    "    import random\n",
    "\n",
    "    special_symbols=string.punctuation\n",
    "    char=string.ascii_letters\n",
    "    dig=string.digits\n",
    "\n",
    "    passw=list(special_symbols+char+dig)\n",
    "    # print(passw)\n",
    "\n",
    "    passwordlist=[]\n",
    "    pass_length=int(input('please enter the password length '))\n",
    "\n",
    "    for i in range (8):\n",
    "        passwordlist.append((random.choice(passw)))\n",
    "\n",
    "    random.shuffle(passwordlist)\n",
    "\n",
    "    password=''.join(passwordlist)\n",
    "    return print(password)\n"
   ]
  },
  {
   "cell_type": "code",
   "execution_count": null,
   "metadata": {},
   "outputs": [],
   "source": [
    "password_generator()"
   ]
  }
 ],
 "metadata": {
  "language_info": {
   "name": "python"
  },
  "orig_nbformat": 4
 },
 "nbformat": 4,
 "nbformat_minor": 2
}
